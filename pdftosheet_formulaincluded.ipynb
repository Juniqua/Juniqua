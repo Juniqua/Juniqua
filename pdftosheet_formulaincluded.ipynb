{
  "nbformat": 4,
  "nbformat_minor": 0,
  "metadata": {
    "colab": {
      "name": "pdftosheet_formulaincluded.ipynb",
      "provenance": [],
      "authorship_tag": "ABX9TyND+ho+clK23X61zXTk3v8G",
      "include_colab_link": true
    },
    "kernelspec": {
      "name": "python3",
      "display_name": "Python 3"
    },
    "language_info": {
      "name": "python"
    }
  },
  "cells": [
    {
      "cell_type": "markdown",
      "metadata": {
        "id": "view-in-github",
        "colab_type": "text"
      },
      "source": [
        "<a href=\"https://colab.research.google.com/github/Juniqua/Juniqua/blob/main/pdftosheet_formulaincluded.ipynb\" target=\"_parent\"><img src=\"https://colab.research.google.com/assets/colab-badge.svg\" alt=\"Open In Colab\"/></a>"
      ]
    },
    {
      "cell_type": "code",
      "execution_count": null,
      "metadata": {
        "id": "9OxSgOKAemLF"
      },
      "outputs": [],
      "source": [
        "import pandas as pd\n",
        "import numpy as np\n",
        "import re"
      ]
    },
    {
      "cell_type": "code",
      "source": [
        "import sys"
      ],
      "metadata": {
        "id": "1kyv9DMeCNYE"
      },
      "execution_count": null,
      "outputs": []
    },
    {
      "cell_type": "code",
      "source": [
        "pip install pdfminer.six"
      ],
      "metadata": {
        "colab": {
          "base_uri": "https://localhost:8080/"
        },
        "id": "SmLLL3xnI_L4",
        "outputId": "085fcc09-9f49-4d7c-8c67-7aa53a49d739"
      },
      "execution_count": null,
      "outputs": [
        {
          "output_type": "stream",
          "name": "stdout",
          "text": [
            "Requirement already satisfied: pdfminer.six in /usr/local/lib/python3.7/dist-packages (20211012)\n",
            "Requirement already satisfied: cryptography in /usr/local/lib/python3.7/dist-packages (from pdfminer.six) (36.0.2)\n",
            "Requirement already satisfied: chardet in /usr/local/lib/python3.7/dist-packages (from pdfminer.six) (3.0.4)\n",
            "Requirement already satisfied: cffi>=1.12 in /usr/local/lib/python3.7/dist-packages (from cryptography->pdfminer.six) (1.15.0)\n",
            "Requirement already satisfied: pycparser in /usr/local/lib/python3.7/dist-packages (from cffi>=1.12->cryptography->pdfminer.six) (2.21)\n"
          ]
        }
      ]
    },
    {
      "cell_type": "code",
      "source": [
        "import pdfminer"
      ],
      "metadata": {
        "id": "FCQDM7TmJHWi"
      },
      "execution_count": null,
      "outputs": []
    },
    {
      "cell_type": "code",
      "source": [
        "pip install PDFplumber"
      ],
      "metadata": {
        "colab": {
          "base_uri": "https://localhost:8080/"
        },
        "id": "SkDDWb8qjnqp",
        "outputId": "f8cd20e5-d45f-482a-9d05-07b6e735609f"
      },
      "execution_count": null,
      "outputs": [
        {
          "output_type": "stream",
          "name": "stdout",
          "text": [
            "Requirement already satisfied: PDFplumber in /usr/local/lib/python3.7/dist-packages (0.6.0)\n",
            "Requirement already satisfied: Wand>=0.6.7 in /usr/local/lib/python3.7/dist-packages (from PDFplumber) (0.6.7)\n",
            "Requirement already satisfied: pdfminer.six==20211012 in /usr/local/lib/python3.7/dist-packages (from PDFplumber) (20211012)\n",
            "Requirement already satisfied: Pillow>=8.4 in /usr/local/lib/python3.7/dist-packages (from PDFplumber) (9.1.0)\n",
            "Requirement already satisfied: chardet in /usr/local/lib/python3.7/dist-packages (from pdfminer.six==20211012->PDFplumber) (3.0.4)\n",
            "Requirement already satisfied: cryptography in /usr/local/lib/python3.7/dist-packages (from pdfminer.six==20211012->PDFplumber) (36.0.2)\n",
            "Requirement already satisfied: cffi>=1.12 in /usr/local/lib/python3.7/dist-packages (from cryptography->pdfminer.six==20211012->PDFplumber) (1.15.0)\n",
            "Requirement already satisfied: pycparser in /usr/local/lib/python3.7/dist-packages (from cffi>=1.12->cryptography->pdfminer.six==20211012->PDFplumber) (2.21)\n"
          ]
        }
      ]
    },
    {
      "cell_type": "code",
      "source": [
        "pip install PyPDF2"
      ],
      "metadata": {
        "colab": {
          "base_uri": "https://localhost:8080/"
        },
        "id": "_cq6dJDEfSKe",
        "outputId": "194075a9-2494-4f9e-d865-17e008992037"
      },
      "execution_count": null,
      "outputs": [
        {
          "output_type": "stream",
          "name": "stdout",
          "text": [
            "Requirement already satisfied: PyPDF2 in /usr/local/lib/python3.7/dist-packages (1.27.8)\n"
          ]
        }
      ]
    },
    {
      "cell_type": "code",
      "source": [
        "from PyPDF2 import PdfFileReader"
      ],
      "metadata": {
        "id": "-XG8XYBGepFU"
      },
      "execution_count": null,
      "outputs": []
    },
    {
      "cell_type": "code",
      "source": [
        "  "
      ],
      "metadata": {
        "id": "YsSP5_PR_g7t"
      },
      "execution_count": null,
      "outputs": []
    },
    {
      "cell_type": "code",
      "source": [
        "f = open('/content/0. non-union timecard.pdf','rb')"
      ],
      "metadata": {
        "id": "jDVI1zuRgEMU"
      },
      "execution_count": null,
      "outputs": []
    },
    {
      "cell_type": "code",
      "source": [
        "f = PdfFileReader(f)"
      ],
      "metadata": {
        "id": "oedfMi1C_mBP"
      },
      "execution_count": null,
      "outputs": []
    },
    {
      "cell_type": "code",
      "source": [
        "PDF_read = PdfFileReader(f)\n",
        "first_page = PDF_read.getPage(0)\n",
        "print(first_page.extractText())"
      ],
      "metadata": {
        "id": "jLY1B839fP53"
      },
      "execution_count": null,
      "outputs": []
    },
    {
      "cell_type": "code",
      "source": [
        "i=0"
      ],
      "metadata": {
        "id": "Id4C1gcbnpO_"
      },
      "execution_count": null,
      "outputs": []
    },
    {
      "cell_type": "code",
      "source": [
        "print(first_page)"
      ],
      "metadata": {
        "id": "EHJMzZQgJ9Ox"
      },
      "execution_count": null,
      "outputs": []
    },
    {
      "cell_type": "code",
      "source": [
        "import pdfplumber\n",
        "with pdfplumber.open('/content/0. non-union timecard.pdf') as temp:\n",
        "  first_page = temp.pages[0]\n",
        "  first_page = first_page.extract_text()\n",
        "  i = 0\n",
        "  pgs=[]\n",
        "  while i < len(temp.pages):\n",
        "    pg = 'p' + str(i)\n",
        "    pgs.append(pg)\n",
        "    i+=1\n",
        "    \n",
        "  i = 0\n",
        "  while i < len(temp.pages):\n",
        "    pgs[i] = temp.pages[i]\n",
        "    pgs[i] = pgs[i].extract_text()\n",
        "    i +=1"
      ],
      "metadata": {
        "id": "AvEf47C1f1s6"
      },
      "execution_count": null,
      "outputs": []
    },
    {
      "cell_type": "code",
      "source": [
        "pgs[0]"
      ],
      "metadata": {
        "colab": {
          "base_uri": "https://localhost:8080/",
          "height": 165
        },
        "id": "fL83Rh9zLYXJ",
        "outputId": "35c92e37-4465-4bef-8b38-4a15a30d5b92"
      },
      "execution_count": null,
      "outputs": [
        {
          "output_type": "execute_result",
          "data": {
            "text/plain": [
              "'BTLTC\\nVER. 03/19\\nCREW TIME CARD\\n2300 Empire Avenue, 5th Floor 7 Penn Plaza, Suite 601\\nBurbank, CA 91504 3350 New York, NY 10001 3912\\nPROJECT TITLE PROD No HOURS WEEK ENDING WORK STATE WORK CITY\\nEMPLOYEE NAME SOCIAL SECURITY NUMBER HOURLY RATE ACCOUNT NO FRINGE ACCOUNT NO\\nXXX   XX\\nLOANOUT CORPORATION FEDERAL EMPLOYER ID NO OCCUPATION TERMINATION DATE\\nSTATE CITY DATE DAY CALL O1UsTt MEAINL OU2nTd MEAILN WRAP 1X 1.5X 2X 2.5X PEMNEAALLTY ACCOUNT NO SER LOC SET CPOADYE HRS RATE AMOUNT\\nS\\nM\\nT\\nW\\nT\\nF\\nS\\nCHECK BOX RENTAL INFORMATION ON FILE\\nTOTAL\\nONE BOX INFORMATION ATTACHED\\nPER DIEMPD1 HOUSINGPD2 ADVANCE ADVANCE REIMBURSE MILEAGE CAR ALLOWANCE CELL ALLOWANCE BOX RENTAL\\nACCT NO ACCT NO ACCT NO ACCT NO ACCT NO ACCT NO ACCT NO ACCT NO ACCT NO\\nTAXABLE NONTAXABLE TAXABLE NONTAXABLE TAXABLE NO WITHHOLDING\\n$ $ $ $ $ $ 1099\\nPD2\\n$ $\\n$ PER $ PD1 $ ADV $ AADDVV $ MLG ML1 CRA CELL EQP EQR\\nEMPLOYEE APPROVAL\\nSIGNATUREX SIGNATURE X\\nBy signing this form, you cer fy that you have reviewed the informa on on this record and it accurately re(cid:327)ects all your start and stop  mes of work, including meal breaks, in this period. If no hours are indicated,  me will be\\ncomputed based on speci(cid:302)c labor law minimums. You also agree that the employer may take deduc ons from your earnings to adjust previous overpayments if, and when, said overpayments occur.'"
            ],
            "application/vnd.google.colaboratory.intrinsic+json": {
              "type": "string"
            }
          },
          "metadata": {},
          "execution_count": 16
        }
      ]
    },
    {
      "cell_type": "code",
      "source": [
        "#Group A is 'pgs[1]'\n",
        "pgs[1]\n",
        "col = 'GSS', 'Feeder_No', 'Affected_area'\n"
      ],
      "metadata": {
        "id": "QKSNir7mLg6q"
      },
      "execution_count": null,
      "outputs": []
    },
    {
      "cell_type": "code",
      "source": [
        "testpg = pgs[1]"
      ],
      "metadata": {
        "id": "gsLj9BMPORBj"
      },
      "execution_count": null,
      "outputs": []
    },
    {
      "cell_type": "code",
      "source": [
        "str(testpg)"
      ],
      "metadata": {
        "id": "1NndxLB-OUyv"
      },
      "execution_count": null,
      "outputs": []
    },
    {
      "cell_type": "code",
      "source": [
        "testpg.rfind(\"Group\")"
      ],
      "metadata": {
        "id": "znYFi-lSPFe-"
      },
      "execution_count": null,
      "outputs": []
    },
    {
      "cell_type": "code",
      "source": [
        "testpg = testpg[testpg.rfind(\"Affected area\")+13:]"
      ],
      "metadata": {
        "id": "3_6zhsQaPP-X"
      },
      "execution_count": null,
      "outputs": []
    },
    {
      "cell_type": "code",
      "source": [
        "testpg"
      ],
      "metadata": {
        "id": "eXKuDKyuRtTQ"
      },
      "execution_count": null,
      "outputs": []
    },
    {
      "cell_type": "code",
      "source": [
        "testpg = testpg.split('\\n')"
      ],
      "metadata": {
        "id": "Zbh91i5IP7Yb"
      },
      "execution_count": null,
      "outputs": []
    },
    {
      "cell_type": "code",
      "source": [
        "len(testpg)"
      ],
      "metadata": {
        "id": "IMin7w2ySgFM"
      },
      "execution_count": null,
      "outputs": []
    },
    {
      "cell_type": "code",
      "source": [
        "testpg[1].split(' ',maxsplit = 2)"
      ],
      "metadata": {
        "id": "3_afD4OCUAxu"
      },
      "execution_count": null,
      "outputs": []
    },
    {
      "cell_type": "code",
      "source": [
        "i = 0\n",
        "page = []\n",
        "while i < len(testpg):\n",
        "  a = testpg[i].split(' ', maxsplit = 2)\n",
        "  page.append(a)\n",
        "  i+=1"
      ],
      "metadata": {
        "id": "fYCXacqJTUpj"
      },
      "execution_count": null,
      "outputs": []
    },
    {
      "cell_type": "code",
      "source": [
        "num = np.array(range(0,21))"
      ],
      "metadata": {
        "id": "NisG8HCTgP0K"
      },
      "execution_count": null,
      "outputs": []
    },
    {
      "cell_type": "code",
      "source": [
        "page.pop(0)"
      ],
      "metadata": {
        "id": "q3DO6GYCuUVs"
      },
      "execution_count": null,
      "outputs": []
    },
    {
      "cell_type": "code",
      "source": [
        "t = str(page[1])"
      ],
      "metadata": {
        "id": "I7ljJmNiYkaZ"
      },
      "execution_count": null,
      "outputs": []
    },
    {
      "cell_type": "code",
      "source": [
        "page[1]"
      ],
      "metadata": {
        "id": "BvGanmG1rX8G"
      },
      "execution_count": null,
      "outputs": []
    },
    {
      "cell_type": "code",
      "source": [
        "t"
      ],
      "metadata": {
        "id": "O8ChNmzIrW8z"
      },
      "execution_count": null,
      "outputs": []
    },
    {
      "cell_type": "code",
      "source": [
        "try:\n",
        "  int(re.search(r'\\d+', t).group())\n"
      ],
      "metadata": {
        "id": "bRR76DEqtYFS"
      },
      "execution_count": null,
      "outputs": []
    },
    {
      "cell_type": "code",
      "source": [
        "i = 0\n",
        "npage = []\n",
        "while i < len(page):\n",
        "  st = str(page[i]\n",
        "  nt = int(re.search(r'\\d+', st).group()) \n",
        "  if nt != int:\n",
        "    zpages = page[i-1]+ page[i]\n",
        "    npage.append(zpages)\n",
        "    page.pop(i)\n",
        "    i+=1\n",
        "#map(int, re.findall(r'\\d+', string1))\n"
      ],
      "metadata": {
        "id": "sD1GiFIkWpBy"
      },
      "execution_count": null,
      "outputs": []
    }
  ]
}